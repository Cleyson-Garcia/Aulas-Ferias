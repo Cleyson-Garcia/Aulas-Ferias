{
 "metadata": {
  "language_info": {
   "codemirror_mode": {
    "name": "ipython",
    "version": 3
   },
   "file_extension": ".py",
   "mimetype": "text/x-python",
   "name": "python",
   "nbconvert_exporter": "python",
   "pygments_lexer": "ipython3",
   "version": "3.8.7-final"
  },
  "orig_nbformat": 2,
  "kernelspec": {
   "name": "python3",
   "display_name": "Python 3.8.7 64-bit",
   "metadata": {
    "interpreter": {
     "hash": "1baa965d5efe3ac65b79dfc60c0d706280b1da80fedb7760faf2759126c4f253"
    }
   }
  }
 },
 "nbformat": 4,
 "nbformat_minor": 2,
 "cells": [
  {
   "source": [
    "## Começo da Disciplina de Python do Curso de Férias da Facens\n"
   ],
   "cell_type": "markdown",
   "metadata": {}
  },
  {
   "cell_type": "code",
   "execution_count": 1,
   "metadata": {},
   "outputs": [
    {
     "output_type": "stream",
     "name": "stdout",
     "text": [
      "Hello World\n"
     ]
    }
   ],
   "source": [
    "print(\"Hello World\")"
   ]
  },
  {
   "source": [
    "### Teste de Inputs\n",
    "Calcular a força resultante a partir de inputs"
   ],
   "cell_type": "markdown",
   "metadata": {}
  },
  {
   "cell_type": "code",
   "execution_count": 6,
   "metadata": {},
   "outputs": [
    {
     "output_type": "stream",
     "name": "stdout",
     "text": [
      "Forca: 150.0\n"
     ]
    }
   ],
   "source": [
    "massa = float(input(\"Massa: \"))\n",
    "aceleracao = float(input(\"Aceleração: \"))\n",
    "\n",
    "print(f\"Força: {massa*aceleracao}\")"
   ]
  },
  {
   "source": [
    "Calcular o delta da função de Bhaskara"
   ],
   "cell_type": "markdown",
   "metadata": {}
  },
  {
   "cell_type": "code",
   "execution_count": 7,
   "metadata": {},
   "outputs": [
    {
     "output_type": "stream",
     "name": "stdout",
     "text": [
      "O delta resultante é 361\n"
     ]
    }
   ],
   "source": [
    "a = int(input(\"A: \"))\n",
    "b = int(input(\"B: \"))\n",
    "c = int(input(\"C: \"))\n",
    "delta = (b**2) - (4*a*c)\n",
    "print(f\"O delta resultante é {delta}\") "
   ]
  },
  {
   "source": [
    "### Teste De Condicionais\n",
    "\n",
    "Calculando o resultado de uma função do segundo grau"
   ],
   "cell_type": "markdown",
   "metadata": {}
  },
  {
   "cell_type": "code",
   "execution_count": 13,
   "metadata": {},
   "outputs": [
    {
     "output_type": "stream",
     "name": "stdout",
     "text": [
      "Delta = 420.0\nExistem duas raízes de valores 1.4638501094227998 e -1.4638501094227998\n"
     ]
    }
   ],
   "source": [
    "a = float(input(\"A: \"))\n",
    "b = float(input(\"B: \"))\n",
    "c = float(input(\"C: \"))\n",
    "delta = (b ** 2) - (4 * a * c)\n",
    "\n",
    "if delta < 0:\n",
    "    print(f\"Delta = {delta}\\nNão existem raízes\")\n",
    "elif delta == 0:\n",
    "    raiz = (-b + delta ** 0.5) / (2 * a)\n",
    "    print(f\"Delta = {delta}\\nExiste uma raíz de valor {raiz}\")\n",
    "elif delta > 0:\n",
    "    primeiraRaiz = (-b + delta ** 0.5) / (2 * a)\n",
    "    segundaRaiz = (-b - delta ** 0.5) / (2 * a)\n",
    "    print(f\"Delta = {delta}\\nExistem duas raízes de valores {primeiraRaiz} e {segundaRaiz}\")"
   ]
  },
  {
   "source": [
    "Receber o nome do usuário e definir se é maior de idade ou menor de idade\n",
    "\n",
    "idade < 18 - menor de idade\n",
    "idade < 12 - criança\n",
    "idade >= 12 - adolescente\n",
    "\n",
    "idade >= 18 - maior de idade\n",
    "idade < 65 - adulto\n",
    "idade >= 65 - idoso\n",
    "\n",
    "Printar na tela informações sobre a pessoa no fim\n"
   ],
   "cell_type": "markdown",
   "metadata": {}
  },
  {
   "cell_type": "code",
   "execution_count": 18,
   "metadata": {},
   "outputs": [
    {
     "output_type": "stream",
     "name": "stdout",
     "text": [
      "Zeca é Menor de Idade e Adolescente\n"
     ]
    }
   ],
   "source": [
    "nome = input(\"Nome: \")\n",
    "idade = int(input(\"Idade: \"))\n",
    "\n",
    "if idade < 18: \n",
    "    maioridade = \"Menor de Idade\"\n",
    "    if idade < 12:\n",
    "        status = \"Criança\"\n",
    "    else:\n",
    "        status = \"Adolescente\"\n",
    "else: \n",
    "    maioridade = \"Maior de Idade\"\n",
    "    if idade < 65:\n",
    "        status = \"Adulto\"\n",
    "    else:\n",
    "        status = \"Idoso\"\n",
    "\n",
    "print(f\"{nome} é {maioridade} e {status}\")"
   ]
  },
  {
   "source": [
    "### Teste De Loops de Repetição\n",
    "\n",
    "Escrever um programa que realiza multiplicações número a número entre um intervalo\n",
    "\n",
    "Ex.:\n",
    "\n",
    "Valores 2 e 5 - Multiplicação de todos os números entre 2 e 5\n",
    "\n",
    "2 x 2 | 2 x 3 | 2 x 4 | 2 x 5\n",
    "\n",
    "3 x 2 | 3 x 3 | 3 x 4 | 3 x 5\n",
    "\n",
    "4 x 2 | 4 x 3 | 4 x 4 | 4 x 5\n",
    "\n",
    "5 x 2 | 5 x 3 | 5 x 4 | 5 x 5\n",
    "\n",
    "Deve verificar se o valor inicial não é maior ou igual que o final,\n",
    "enquanto for, pedir que o usuário insira os valores novamente (ou pedir somente o valor final)"
   ],
   "cell_type": "markdown",
   "metadata": {}
  },
  {
   "cell_type": "code",
   "execution_count": 25,
   "metadata": {},
   "outputs": [
    {
     "output_type": "stream",
     "name": "stdout",
     "text": [
      "2 X 2 = 4 | 2 X 3 = 6 | 2 X 4 = 8 | 2 X 5 = 10 | \n\n3 X 2 = 6 | 3 X 3 = 9 | 3 X 4 = 12 | 3 X 5 = 15 | \n\n4 X 2 = 8 | 4 X 3 = 12 | 4 X 4 = 16 | 4 X 5 = 20 | \n\n5 X 2 = 10 | 5 X 3 = 15 | 5 X 4 = 20 | 5 X 5 = 25 | \n\n"
     ]
    }
   ],
   "source": [
    "inicio = int(input(\"Inicio: \"))\n",
    "fim = int(input(\"Fim: \"))\n",
    "\n",
    "while fim <= inicio:\n",
    "    fim = int(input(\"Valor Inválido.\\nFavor inserir um valor maior que o Início.\\nFim: \"))\n",
    "\n",
    "for i in range(inicio, fim+1):\n",
    "    for j in range(inicio,fim+1):\n",
    "        print(f\"{i} X {j} = {i * j} | \", end=\"\")\n",
    "    print(\"\\n\")"
   ]
  },
  {
   "source": [
    "Fazer um cadastro de pessoas com nome de usuário, e-mail e senha\n",
    "\n",
    "salvar esses valores numa lista de dicionários\n",
    "\n",
    "usar repetição para cadastrá-los, perguntando se quer continuar cadastrando ou não\n",
    "\n",
    "a cada iteração"
   ],
   "cell_type": "markdown",
   "metadata": {}
  },
  {
   "cell_type": "code",
   "execution_count": 31,
   "metadata": {},
   "outputs": [
    {
     "output_type": "stream",
     "name": "stdout",
     "text": [
      "Info Usuario - 1\nNome: ac4\nEmail: 4\nSenha: 5\n\n"
     ]
    }
   ],
   "source": [
    "usuarios = []\n",
    "continua = \"S\"\n",
    "\n",
    "while continua.capitalize() == \"S\":\n",
    "    pessoa = {}\n",
    "    pessoa[\"nome\"] = input(\"Nome: \")\n",
    "    pessoa[\"email\"] = input(\"Email: \")\n",
    "    pessoa[\"senha\"] = input(\"Senha: \")\n",
    "    usuarios.append(pessoa)\n",
    "    continua = input(\"Deseja continuar? (S/N)\")\n",
    "\n",
    "for index in range(len(usuarios)):\n",
    "    nome = usuarios[index].get(\"nome\")\n",
    "    email = usuarios[index].get(\"email\")\n",
    "    senha = usuarios[index].get(\"senha\")\n",
    "    print(f\"Info Usuario - {index+1}\")\n",
    "    print(f\"Nome: {nome}\\nEmail: {email}\\nSenha: {usuarios[index].get('senha')}\\n\")"
   ]
  },
  {
   "source": [
    "### Teste de Funções\n",
    "\n",
    "Com base no exercício de coleções, criar uma função que\n",
    "\n",
    "realiza esse cadastro de usuário e outra que lista todos os usuários\n",
    "\n",
    "cadastrados no final, retornando uma string dessa lista.\n",
    "\n",
    "O resto do programa pode ser mantido o mesmo.\n"
   ],
   "cell_type": "markdown",
   "metadata": {}
  },
  {
   "cell_type": "code",
   "execution_count": 23,
   "metadata": {},
   "outputs": [
    {
     "output_type": "stream",
     "name": "stdout",
     "text": [
      "Info Usuario - 1\nNome: abc\nEmail: 123\nSenha: 456\nInfo Usuario - 2\nNome: def\nEmail: 789\nSenha: 987\n\n"
     ]
    }
   ],
   "source": [
    "def cadastro():\n",
    "    usuarios = []\n",
    "    continua = \"S\"\n",
    "\n",
    "    while continua.capitalize() == \"S\":\n",
    "        pessoa = {\n",
    "                \"nome\": \"\",\n",
    "                \"email\": \"\",\n",
    "                \"senha\": \"\"\n",
    "            }\n",
    "        pessoa[\"nome\"] = input(\"Nome: \")\n",
    "        pessoa[\"email\"] = input(\"Email: \")\n",
    "        pessoa[\"senha\"] = input(\"Senha: \")\n",
    "        usuarios.append(pessoa)\n",
    "        continua = input(\"Deseja continuar? (S/N)\")\n",
    "\n",
    "    return usuarios\n",
    "\n",
    "def mostraUsuarios(usuarios):\n",
    "    mensagem = \"\"\n",
    "\n",
    "    for index in range(len(usuarios)):\n",
    "        nome = usuarios[index].get(\"nome\")\n",
    "        email = usuarios[index].get(\"email\")\n",
    "        senha = usuarios[index].get(\"senha\")\n",
    "        mensagem += f\"Info Usuario - {index+1}\\n\"\n",
    "        mensagem += f\"Nome: {nome}\\nEmail: {email}\\nSenha: {senha}\\n\\n\"\n",
    "\n",
    "    return mensagem\n",
    "    \n",
    "usuarios = cadastro()\n",
    "print(mostraUsuarios(usuarios))"
   ]
  },
  {
   "source": [
    "### Teste de Importações\n",
    "\n",
    "Exibir a data de hoje e a data em 30 dias"
   ],
   "cell_type": "markdown",
   "metadata": {}
  },
  {
   "cell_type": "code",
   "execution_count": 2,
   "metadata": {},
   "outputs": [
    {
     "output_type": "stream",
     "name": "stdout",
     "text": [
      "A data de hoje é 2021-01-28, e daqui a 30 dias será 2021-02-27\n"
     ]
    }
   ],
   "source": [
    "from datetime import date, timedelta\n",
    "\n",
    "hoje = date.today()\n",
    "futuro = hoje + timedelta(days=30)\n",
    "\n",
    "print(f\"A data de hoje é {hoje}, e daqui a 30 dias será {futuro}\")"
   ]
  },
  {
   "cell_type": "code",
   "execution_count": null,
   "metadata": {},
   "outputs": [],
   "source": []
  }
 ]
}